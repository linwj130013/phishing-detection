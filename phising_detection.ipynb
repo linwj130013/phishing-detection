{
 "cells": [
  {
   "cell_type": "code",
   "execution_count": 10,
   "metadata": {},
   "outputs": [],
   "source": [
    "import pandas as pd\n",
    "import numpy as np"
   ]
  },
  {
   "cell_type": "code",
   "execution_count": 11,
   "metadata": {},
   "outputs": [
    {
     "name": "stdout",
     "output_type": "stream",
     "text": [
      "Requirement already satisfied: sklearn in /home/rachit/.local/lib/python3.8/site-packages (0.0)\r\n",
      "Requirement already satisfied: scikit-learn in /home/rachit/.local/lib/python3.8/site-packages (from sklearn) (0.24.2)\r\n",
      "Requirement already satisfied: numpy>=1.13.3 in /home/rachit/.local/lib/python3.8/site-packages (from scikit-learn->sklearn) (1.19.4)\r\n",
      "Requirement already satisfied: joblib>=0.11 in /home/rachit/.local/lib/python3.8/site-packages (from scikit-learn->sklearn) (1.0.1)\r\n",
      "Requirement already satisfied: scipy>=0.19.1 in /home/rachit/.local/lib/python3.8/site-packages (from scikit-learn->sklearn) (1.5.4)\r\n",
      "Requirement already satisfied: threadpoolctl>=2.0.0 in /home/rachit/.local/lib/python3.8/site-packages (from scikit-learn->sklearn) (2.1.0)\r\n"
     ]
    }
   ],
   "source": [
    "# Install a pip package in the current Jupyter kernel\n",
    "import sys\n",
    "!{sys.executable} -m pip install sklearn"
   ]
  },
  {
   "cell_type": "code",
   "execution_count": 12,
   "metadata": {},
   "outputs": [],
   "source": [
    "from sklearn import tree\n",
    "from sklearn.metrics import accuracy_score"
   ]
  },
  {
   "cell_type": "code",
   "execution_count": 13,
   "metadata": {},
   "outputs": [],
   "source": [
    "def load_data():\n",
    "    training_data = np.genfromtxt('dataset_full.csv', delimiter=',', dtype=np.int32)\n",
    "\n",
    "    inputs = training_data[:,:-1]\n",
    "    outputs = training_data[:, -1]\n",
    "\n",
    "    training_inputs = inputs[:60000]\n",
    "    training_outputs = outputs[:60000]\n",
    "    testing_inputs = inputs[60000:]\n",
    "    testing_outputs = outputs[60000:]\n",
    "\n",
    "    return training_inputs, training_outputs, testing_inputs, testing_outputs\n",
    "\n",
    "train_inputs, train_outputs, test_inputs, test_outputs = load_data()"
   ]
  },
  {
   "cell_type": "code",
   "execution_count": 14,
   "metadata": {},
   "outputs": [
    {
     "name": "stdout",
     "output_type": "stream",
     "text": [
      "Accuracy: 95.27017592851159\n"
     ]
    }
   ],
   "source": [
    "classifier = tree.DecisionTreeClassifier()\n",
    "classifier.fit(train_inputs, train_outputs)\n",
    "predictions = classifier.predict(test_inputs)\n",
    "accuracy = 100.0 * accuracy_score(test_outputs, predictions)\n",
    "print(\"Accuracy: \" + str(accuracy))"
   ]
  }
 ],
 "metadata": {
  "kernelspec": {
   "display_name": "Python 3",
   "language": "python",
   "name": "python3"
  },
  "language_info": {
   "codemirror_mode": {
    "name": "ipython",
    "version": 3
   },
   "file_extension": ".py",
   "mimetype": "text/x-python",
   "name": "python",
   "nbconvert_exporter": "python",
   "pygments_lexer": "ipython3",
   "version": "3.8.5"
  }
 },
 "nbformat": 4,
 "nbformat_minor": 2
}
