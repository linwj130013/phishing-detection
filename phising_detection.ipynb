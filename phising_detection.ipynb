{
 "metadata": {
  "language_info": {
   "codemirror_mode": {
    "name": "ipython",
    "version": 3
   },
   "file_extension": ".py",
   "mimetype": "text/x-python",
   "name": "python",
   "nbconvert_exporter": "python",
   "pygments_lexer": "ipython3",
   "version": "3.8.5"
  },
  "orig_nbformat": 2,
  "kernelspec": {
   "name": "python3",
   "display_name": "Python 3",
   "language": "python"
  }
 },
 "nbformat": 4,
 "nbformat_minor": 2,
 "cells": [
  {
   "cell_type": "code",
   "execution_count": 4,
   "metadata": {},
   "outputs": [],
   "source": [
    "import pandas as pd\n",
    "import numpy as np"
   ]
  },
  {
   "cell_type": "code",
   "execution_count": 6,
   "metadata": {},
   "outputs": [
    {
     "output_type": "stream",
     "name": "stdout",
     "text": [
      "Collecting sklearn\n",
      "  Downloading sklearn-0.0.tar.gz (1.1 kB)\n",
      "Collecting scikit-learn\n",
      "  Downloading scikit_learn-0.24.2-cp38-cp38-manylinux2010_x86_64.whl (24.9 MB)\n",
      "\u001b[K     |████████████████████████████████| 24.9 MB 3.9 MB/s \n",
      "\u001b[?25hRequirement already satisfied: scipy>=0.19.1 in /home/rachit/.local/lib/python3.8/site-packages (from scikit-learn->sklearn) (1.5.4)\n",
      "Collecting joblib>=0.11\n",
      "  Downloading joblib-1.0.1-py3-none-any.whl (303 kB)\n",
      "\u001b[K     |████████████████████████████████| 303 kB 42.7 MB/s \n",
      "\u001b[?25hCollecting threadpoolctl>=2.0.0\n",
      "  Downloading threadpoolctl-2.1.0-py3-none-any.whl (12 kB)\n",
      "Requirement already satisfied: numpy>=1.13.3 in /home/rachit/.local/lib/python3.8/site-packages (from scikit-learn->sklearn) (1.19.4)\n",
      "Building wheels for collected packages: sklearn\n",
      "  Building wheel for sklearn (setup.py) ... \u001b[?25ldone\n",
      "\u001b[?25h  Created wheel for sklearn: filename=sklearn-0.0-py2.py3-none-any.whl size=1315 sha256=6f92548e03c9656d0f0b9da601c34435cd07e03715a62787445160db1674655d\n",
      "  Stored in directory: /home/rachit/.cache/pip/wheels/22/0b/40/fd3f795caaa1fb4c6cb738bc1f56100be1e57da95849bfc897\n",
      "Successfully built sklearn\n",
      "Installing collected packages: joblib, threadpoolctl, scikit-learn, sklearn\n",
      "Successfully installed joblib-1.0.1 scikit-learn-0.24.2 sklearn-0.0 threadpoolctl-2.1.0\n"
     ]
    }
   ],
   "source": [
    "\n",
    "# Install a pip package in the current Jupyter kernel\n",
    "import sys\n",
    "!{sys.executable} -m pip install sklearn"
   ]
  },
  {
   "cell_type": "code",
   "execution_count": 8,
   "metadata": {},
   "outputs": [
    {
     "output_type": "stream",
     "name": "stdout",
     "text": [
      "The accuracy of your decision tree on testing data is: 95.38536721586149\n"
     ]
    }
   ],
   "source": [
    "from sklearn import tree\n",
    "from sklearn.metrics import accuracy_score\n",
    "\n",
    "def load_data():\n",
    "    training_data = np.genfromtxt('dataset_full.csv', delimiter=',', dtype=np.int32)\n",
    "\n",
    "    inputs = training_data[:,:-1]\n",
    "    outputs = training_data[:, -1]\n",
    "\n",
    "    training_inputs = inputs[:60000]\n",
    "    training_outputs = outputs[:60000]\n",
    "    testing_inputs = inputs[60000:]\n",
    "    testing_outputs = outputs[60000:]\n",
    "\n",
    "    return training_inputs, training_outputs, testing_inputs, testing_outputs\n",
    "\n",
    "\n",
    "if __name__ == '__main__':\n",
    "    \n",
    "    train_inputs, train_outputs, test_inputs, test_outputs = load_data()\n",
    "    classifier = tree.DecisionTreeClassifier()\n",
    "    classifier.fit(train_inputs, train_outputs)\n",
    "    predictions = classifier.predict(test_inputs)\n",
    "    accuracy = 100.0 * accuracy_score(test_outputs, predictions)\n",
    "    print(\"The accuracy of your decision tree on testing data is: \" + str(accuracy))\n"
   ]
  },
  {
   "cell_type": "code",
   "execution_count": null,
   "metadata": {},
   "outputs": [],
   "source": []
  }
 ]
}